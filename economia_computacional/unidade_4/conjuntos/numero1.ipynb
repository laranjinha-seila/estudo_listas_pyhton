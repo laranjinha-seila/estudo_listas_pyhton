{
 "cells": [
  {
   "cell_type": "markdown",
   "id": "a335ec38",
   "metadata": {},
   "source": [
    "### Leia um número e imprima na tela o seu dobro se ele for menor do que 10. Se o número for de 10 até 20, imprima a sua metade. Em qualquer outro caso, imprima na tela que o número não é válido."
   ]
  },
  {
   "cell_type": "code",
   "execution_count": 30,
   "id": "74aafbd6",
   "metadata": {},
   "outputs": [
    {
     "name": "stdout",
     "output_type": "stream",
     "text": [
      "Qual o número?30\n"
     ]
    }
   ],
   "source": [
    "x = float(input(\"Qual o número?\"))"
   ]
  },
  {
   "cell_type": "code",
   "execution_count": 31,
   "id": "f2208494",
   "metadata": {},
   "outputs": [],
   "source": [
    "if x < 10:\n",
    "    x = (x*2)\n",
    "elif 10 <= x <= 20:\n",
    "        x = (x/2)\n",
    "else:\n",
    "    x = \"Seu número é inválido\""
   ]
  },
  {
   "cell_type": "code",
   "execution_count": 32,
   "id": "ed701aac",
   "metadata": {},
   "outputs": [
    {
     "name": "stdout",
     "output_type": "stream",
     "text": [
      "Seu número é inválido\n"
     ]
    }
   ],
   "source": [
    "print(x)"
   ]
  },
  {
   "cell_type": "code",
   "execution_count": null,
   "id": "472ddb0b",
   "metadata": {},
   "outputs": [],
   "source": []
  }
 ],
 "metadata": {
  "kernelspec": {
   "display_name": "Python 3 (ipykernel)",
   "language": "python",
   "name": "python3"
  },
  "language_info": {
   "codemirror_mode": {
    "name": "ipython",
    "version": 3
   },
   "file_extension": ".py",
   "mimetype": "text/x-python",
   "name": "python",
   "nbconvert_exporter": "python",
   "pygments_lexer": "ipython3",
   "version": "3.10.9"
  }
 },
 "nbformat": 4,
 "nbformat_minor": 5
}
