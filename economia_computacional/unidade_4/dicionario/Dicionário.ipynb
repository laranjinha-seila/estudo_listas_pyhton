{
 "cells": [
  {
   "cell_type": "markdown",
   "id": "36c81ab7",
   "metadata": {},
   "source": [
    "# Dicionário\n"
   ]
  },
  {
   "cell_type": "code",
   "execution_count": 1,
   "id": "25807b99",
   "metadata": {},
   "outputs": [],
   "source": [
    "# Criando um dicionário\n",
    "tabela = {\"Arroz\": 0.5, \"Batata\": 0.2, \"Carne\": 0.1}"
   ]
  },
  {
   "cell_type": "code",
   "execution_count": null,
   "id": "f772a773",
   "metadata": {},
   "outputs": [],
   "source": []
  },
  {
   "cell_type": "code",
   "execution_count": 2,
   "id": "d51a5464",
   "metadata": {},
   "outputs": [],
   "source": []
  },
  {
   "cell_type": "code",
   "execution_count": 3,
   "id": "32d63100",
   "metadata": {},
   "outputs": [
    {
     "name": "stdout",
     "output_type": "stream",
     "text": [
      "0.5\n"
     ]
    }
   ],
   "source": [
    "# Acessando dados no dicionário\n",
    "print(tabela[\"Arroz\"])"
   ]
  },
  {
   "cell_type": "code",
   "execution_count": 4,
   "id": "971e3eba",
   "metadata": {},
   "outputs": [
    {
     "name": "stdout",
     "output_type": "stream",
     "text": [
      "0.2\n"
     ]
    }
   ],
   "source": [
    "print(tabela[\"Batata\"])"
   ]
  },
  {
   "cell_type": "code",
   "execution_count": 5,
   "id": "5700be3e",
   "metadata": {},
   "outputs": [
    {
     "data": {
      "text/plain": [
       "3"
      ]
     },
     "execution_count": 5,
     "metadata": {},
     "output_type": "execute_result"
    }
   ],
   "source": [
    "len(tabela)"
   ]
  },
  {
   "cell_type": "code",
   "execution_count": 6,
   "id": "917cf139",
   "metadata": {},
   "outputs": [
    {
     "ename": "SyntaxError",
     "evalue": "expected ':' (3215296764.py, line 1)",
     "output_type": "error",
     "traceback": [
      "\u001b[1;36m  Cell \u001b[1;32mIn[6], line 1\u001b[1;36m\u001b[0m\n\u001b[1;33m    class dict(tabela)\u001b[0m\n\u001b[1;37m                      ^\u001b[0m\n\u001b[1;31mSyntaxError\u001b[0m\u001b[1;31m:\u001b[0m expected ':'\n"
     ]
    }
   ],
   "source": [
    "class dict(tabela)"
   ]
  },
  {
   "cell_type": "code",
   "execution_count": null,
   "id": "e2349efd",
   "metadata": {},
   "outputs": [],
   "source": []
  }
 ],
 "metadata": {
  "kernelspec": {
   "display_name": "Python 3 (ipykernel)",
   "language": "python",
   "name": "python3"
  },
  "language_info": {
   "codemirror_mode": {
    "name": "ipython",
    "version": 3
   },
   "file_extension": ".py",
   "mimetype": "text/x-python",
   "name": "python",
   "nbconvert_exporter": "python",
   "pygments_lexer": "ipython3",
   "version": "3.10.9"
  }
 },
 "nbformat": 4,
 "nbformat_minor": 5
}
