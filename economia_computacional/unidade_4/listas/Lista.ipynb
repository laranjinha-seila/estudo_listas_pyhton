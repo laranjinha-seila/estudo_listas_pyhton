{
 "cells": [
  {
   "cell_type": "markdown",
   "id": "540a6565",
   "metadata": {},
   "source": [
    "# Listas"
   ]
  },
  {
   "cell_type": "code",
   "execution_count": 1,
   "id": "70dae372",
   "metadata": {},
   "outputs": [
    {
     "ename": "SyntaxError",
     "evalue": "unexpected character after line continuation character (3189313084.py, line 1)",
     "output_type": "error",
     "traceback": [
      "\u001b[1;36m  Cell \u001b[1;32mIn[1], line 1\u001b[1;36m\u001b[0m\n\u001b[1;33m    lçaksjzdclkzjkldjchl\\ai´ppzx\u001b[0m\n\u001b[1;37m                         ^\u001b[0m\n\u001b[1;31mSyntaxError\u001b[0m\u001b[1;31m:\u001b[0m unexpected character after line continuation character\n"
     ]
    }
   ],
   "source": [
    "lçaksjzdclkzjkldjchl\\ai´ppzx\n"
   ]
  },
  {
   "cell_type": "code",
   "execution_count": 2,
   "id": "bf8724ca",
   "metadata": {},
   "outputs": [
    {
     "ename": "SyntaxError",
     "evalue": "Missing parentheses in call to 'print'. Did you mean print(...)? (2886943703.py, line 1)",
     "output_type": "error",
     "traceback": [
      "\u001b[1;36m  Cell \u001b[1;32mIn[2], line 1\u001b[1;36m\u001b[0m\n\u001b[1;33m    print\"Felipe, vai tomar no cu\"\u001b[0m\n\u001b[1;37m    ^\u001b[0m\n\u001b[1;31mSyntaxError\u001b[0m\u001b[1;31m:\u001b[0m Missing parentheses in call to 'print'. Did you mean print(...)?\n"
     ]
    }
   ],
   "source": [
    "print\"Felipe, vai tomar no cu\""
   ]
  },
  {
   "cell_type": "code",
   "execution_count": 3,
   "id": "2e4064c1",
   "metadata": {},
   "outputs": [
    {
     "name": "stdout",
     "output_type": "stream",
     "text": [
      "Felipe, vai tomar no cu\n"
     ]
    }
   ],
   "source": [
    "print(\"Felipe, vai tomar no cu\")\n"
   ]
  },
  {
   "cell_type": "code",
   "execution_count": 2,
   "id": "7b20f757",
   "metadata": {},
   "outputs": [],
   "source": [
    "# Criação de lista\n",
    "lista1 = [1, 'a', 2.3]\n",
    "b = [1, 2, 3, 4, 5, 6]"
   ]
  },
  {
   "cell_type": "code",
   "execution_count": 3,
   "id": "ca4e9efd",
   "metadata": {},
   "outputs": [
    {
     "name": "stdout",
     "output_type": "stream",
     "text": [
      "[1, 'a', 2.3]\n",
      "[1, 2, 3, 4, 5, 6]\n"
     ]
    }
   ],
   "source": [
    "print(lista1)\n",
    "print(b)"
   ]
  },
  {
   "cell_type": "code",
   "execution_count": 4,
   "id": "daed7289",
   "metadata": {},
   "outputs": [
    {
     "name": "stdout",
     "output_type": "stream",
     "text": [
      "1\n",
      "3\n"
     ]
    }
   ],
   "source": [
    "# Acessando os elementos da lista\n",
    "print(lista1[0])\n",
    "print(b[2])"
   ]
  },
  {
   "cell_type": "code",
   "execution_count": 5,
   "id": "a940d727",
   "metadata": {},
   "outputs": [
    {
     "data": {
      "text/plain": [
       "'a'"
      ]
     },
     "execution_count": 5,
     "metadata": {},
     "output_type": "execute_result"
    }
   ],
   "source": [
    "lista1[1]"
   ]
  },
  {
   "cell_type": "code",
   "execution_count": 6,
   "id": "7c076392",
   "metadata": {},
   "outputs": [],
   "source": [
    "# Modificando um elemento da lista\n",
    "b[2] = 15"
   ]
  },
  {
   "cell_type": "code",
   "execution_count": 7,
   "id": "75c4cf55",
   "metadata": {},
   "outputs": [
    {
     "name": "stdout",
     "output_type": "stream",
     "text": [
      "[1, 2, 15, 4, 5, 6]\n"
     ]
    }
   ],
   "source": [
    "print(b)"
   ]
  },
  {
   "cell_type": "code",
   "execution_count": 8,
   "id": "afd99329",
   "metadata": {},
   "outputs": [
    {
     "name": "stdout",
     "output_type": "stream",
     "text": [
      "[1, 2, 15, 4, 5, 6]\n"
     ]
    }
   ],
   "source": [
    "# Verificando a nova lista b\n",
    "print(b)"
   ]
  },
  {
   "cell_type": "markdown",
   "id": "8902f6a6",
   "metadata": {},
   "source": [
    "## Ordenação de lista"
   ]
  },
  {
   "cell_type": "code",
   "execution_count": 9,
   "id": "9bf24857",
   "metadata": {},
   "outputs": [
    {
     "name": "stdout",
     "output_type": "stream",
     "text": [
      "[1, 2, 4, 5, 6, 15]\n"
     ]
    }
   ],
   "source": [
    "# Ordenando a lista b\n",
    "c = sorted(b)\n",
    "print(c)\n"
   ]
  },
  {
   "cell_type": "code",
   "execution_count": 10,
   "id": "ed59b2e3",
   "metadata": {},
   "outputs": [],
   "source": [
    "# Usando o método sort\n",
    "d = b.sort()"
   ]
  },
  {
   "cell_type": "code",
   "execution_count": 11,
   "id": "d79b1f30",
   "metadata": {},
   "outputs": [
    {
     "name": "stdout",
     "output_type": "stream",
     "text": [
      "None\n"
     ]
    }
   ],
   "source": [
    "print(d)"
   ]
  },
  {
   "cell_type": "code",
   "execution_count": 12,
   "id": "b9d1e836",
   "metadata": {},
   "outputs": [
    {
     "name": "stdout",
     "output_type": "stream",
     "text": [
      "[1, 2, 4, 5, 6, 15]\n"
     ]
    }
   ],
   "source": [
    "print(b)"
   ]
  },
  {
   "cell_type": "code",
   "execution_count": 13,
   "id": "1ac027e5",
   "metadata": {},
   "outputs": [],
   "source": [
    "e = [2, 13, 6, 1, 9]"
   ]
  },
  {
   "cell_type": "code",
   "execution_count": 14,
   "id": "abe3e8c6",
   "metadata": {},
   "outputs": [
    {
     "name": "stdout",
     "output_type": "stream",
     "text": [
      "None\n"
     ]
    }
   ],
   "source": [
    "print(e.sort())"
   ]
  },
  {
   "cell_type": "code",
   "execution_count": 15,
   "id": "6dbd0140",
   "metadata": {},
   "outputs": [
    {
     "name": "stdout",
     "output_type": "stream",
     "text": [
      "[1, 2, 6, 9, 13]\n"
     ]
    }
   ],
   "source": [
    "print(e)"
   ]
  },
  {
   "cell_type": "code",
   "execution_count": 16,
   "id": "ecdbd1c8",
   "metadata": {},
   "outputs": [
    {
     "name": "stdout",
     "output_type": "stream",
     "text": [
      "[1, 2, 4, 5, 6, 15]\n"
     ]
    }
   ],
   "source": [
    "print(c)"
   ]
  },
  {
   "cell_type": "code",
   "execution_count": null,
   "id": "6f715882",
   "metadata": {},
   "outputs": [],
   "source": []
  },
  {
   "cell_type": "code",
   "execution_count": null,
   "id": "cd17123f",
   "metadata": {},
   "outputs": [],
   "source": []
  }
 ],
 "metadata": {
  "kernelspec": {
   "display_name": "Python 3 (ipykernel)",
   "language": "python",
   "name": "python3"
  },
  "language_info": {
   "codemirror_mode": {
    "name": "ipython",
    "version": 3
   },
   "file_extension": ".py",
   "mimetype": "text/x-python",
   "name": "python",
   "nbconvert_exporter": "python",
   "pygments_lexer": "ipython3",
   "version": "3.10.9"
  }
 },
 "nbformat": 4,
 "nbformat_minor": 5
}
