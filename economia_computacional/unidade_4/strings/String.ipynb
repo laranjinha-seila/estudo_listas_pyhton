{
 "cells": [
  {
   "cell_type": "markdown",
   "id": "b6841a09",
   "metadata": {},
   "source": [
    "# Usando a documentação Python"
   ]
  },
  {
   "cell_type": "code",
   "execution_count": 5,
   "id": "33be39bf",
   "metadata": {},
   "outputs": [],
   "source": [
    "# Listagen 1: primeira string\n",
    "primeira_string = \"Casa\"\n"
   ]
  },
  {
   "cell_type": "code",
   "execution_count": 4,
   "id": "b61d1ece",
   "metadata": {},
   "outputs": [
    {
     "name": "stdout",
     "output_type": "stream",
     "text": [
      "CASA\n"
     ]
    }
   ],
   "source": [
    "maiusculas_primeira_string = primeira_string.upper()\n",
    "print(maiusculas_primeira_string)"
   ]
  },
  {
   "cell_type": "code",
   "execution_count": 7,
   "id": "9ed8d135",
   "metadata": {},
   "outputs": [
    {
     "name": "stdout",
     "output_type": "stream",
     "text": [
      "casa\n"
     ]
    }
   ],
   "source": [
    "minusculas_primeira_string = primeira_string.lower()\n",
    "print(minusculas_primeira_string)"
   ]
  },
  {
   "cell_type": "code",
   "execution_count": null,
   "id": "06551ac4",
   "metadata": {},
   "outputs": [],
   "source": []
  }
 ],
 "metadata": {
  "kernelspec": {
   "display_name": "Python 3 (ipykernel)",
   "language": "python",
   "name": "python3"
  },
  "language_info": {
   "codemirror_mode": {
    "name": "ipython",
    "version": 3
   },
   "file_extension": ".py",
   "mimetype": "text/x-python",
   "name": "python",
   "nbconvert_exporter": "python",
   "pygments_lexer": "ipython3",
   "version": "3.10.9"
  }
 },
 "nbformat": 4,
 "nbformat_minor": 5
}
