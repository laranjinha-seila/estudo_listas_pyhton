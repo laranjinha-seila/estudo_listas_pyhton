{
 "cells": [
  {
   "cell_type": "markdown",
   "id": "4c9cf829",
   "metadata": {},
   "source": [
    "###  Leia um número e imprima na tela a mensagem ”O número é par.”se o número lido for par e ”O número ú impar”se o n´umero lido for ímpar. Em caso de n´umero não inteiros ou negativos, imprima na tela ”Este número não é válido.”\n"
   ]
  },
  {
   "cell_type": "code",
   "execution_count": null,
   "id": "ada46134",
   "metadata": {},
   "outputs": [],
   "source": []
  }
 ],
 "metadata": {
  "kernelspec": {
   "display_name": "Python 3 (ipykernel)",
   "language": "python",
   "name": "python3"
  },
  "language_info": {
   "codemirror_mode": {
    "name": "ipython",
    "version": 3
   },
   "file_extension": ".py",
   "mimetype": "text/x-python",
   "name": "python",
   "nbconvert_exporter": "python",
   "pygments_lexer": "ipython3",
   "version": "3.10.9"
  }
 },
 "nbformat": 4,
 "nbformat_minor": 5
}
